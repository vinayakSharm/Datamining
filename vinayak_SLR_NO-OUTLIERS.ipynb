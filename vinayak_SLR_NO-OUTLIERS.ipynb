{
 "cells": [
  {
   "cell_type": "code",
   "execution_count": 60,
   "metadata": {},
   "outputs": [],
   "source": [
    "import pandas as pd\n",
    "import numpy as np\n",
    "from matplotlib import pyplot as plt\n",
    "import math\n",
    "from sklearn.cluster import DBSCAN\n",
    "from sklearn.cluster import KMeans\n",
    "from sklearn.metrics import adjusted_rand_score\n",
    "from mpl_toolkits import mplot3d\n",
    "from kneed import KneeLocator\n",
    "from sklearn.linear_model import LinearRegression\n",
    "import copy"
   ]
  },
  {
   "cell_type": "code",
   "execution_count": 61,
   "metadata": {},
   "outputs": [],
   "source": [
    "covid_df = pd.read_csv('./data/covid_archive/country_wise_latest.csv');\n",
    "h1n1_df = pd.read_csv('./h1n1_archive/data.csv');\n",
    "city_country_relation = pd.read_csv('./quality_of_life_archive/cities.csv');\n",
    "city_df = pd.read_csv('./quality_of_life_archive/movehubqualityoflife.csv');"
   ]
  },
  {
   "cell_type": "code",
   "execution_count": 62,
   "metadata": {},
   "outputs": [],
   "source": [
    "city_2_country = city_country_relation.set_index('City').to_dict()\n",
    "city_2_country = city_2_country['Country']\n"
   ]
  },
  {
   "cell_type": "code",
   "execution_count": 63,
   "metadata": {},
   "outputs": [],
   "source": [
    "# ['City', 'Movehub Rating', 'Purchase Power', 'Health Care', 'Pollution',\n",
    "#        'Quality of Life', 'Crime Rating']\n",
    "country_covid_cases = {}\n",
    "country_covid_deaths = {}\n",
    "country_covid_deathsper100cases = {}\n",
    "country_covid_deathsper100recovered={}\n",
    "country_h1n1_cases = {}\n",
    "country_healthcare_rating = {}\n",
    "country_pollution_rating = {}\n",
    "country_qualityOfLife_rating = {}\n",
    "country_Movehub_rating = {}\n",
    "country_Purachase_power = {}\n",
    "country_Crime_rating = {}\n",
    "city_country_ct = {} # For the quality of life measurements, broken down by city but trying to aggregate by country"
   ]
  },
  {
   "cell_type": "code",
   "execution_count": null,
   "metadata": {},
   "outputs": [],
   "source": []
  },
  {
   "cell_type": "code",
   "execution_count": 64,
   "metadata": {},
   "outputs": [],
   "source": [
    "for index,row in covid_df.iterrows():\n",
    "    country_covid_cases[row[\"Country/Region\"]] = int(row[\"Confirmed\"])\n",
    "    country_covid_deaths[row[\"Country/Region\"]] = int(row[\"Deaths\"])\n",
    "    if(row[\"Deaths / 100 Recovered\"] != math.inf):\n",
    "        country_covid_deathsper100recovered[row[\"Country/Region\"]]=int(row[\"Deaths / 100 Recovered\"])\n",
    "    country_covid_deathsper100cases[row[\"Country/Region\"]] = int(row[\"Deaths / 100 Cases\"])\n",
    "    \n",
    "\n",
    "for index,row in h1n1_df.iterrows():\n",
    "    if country_h1n1_cases.get(row[\"Country\"]) == None:\n",
    "        country_h1n1_cases[row[\"Country\"]] = row['Cumulative no. of cases']\n",
    "    elif row['Cumulative no. of cases'] > country_h1n1_cases[row[\"Country\"]]:\n",
    "        country_h1n1_cases[row[\"Country\"]] = row['Cumulative no. of cases']\n",
    "\n"
   ]
  },
  {
   "cell_type": "code",
   "execution_count": 65,
   "metadata": {},
   "outputs": [],
   "source": [
    "for index, row in city_df.iterrows():\n",
    "    \n",
    "    #Edge case differentiation, as some city names are stored different in the association table\n",
    "    k = row[\"City\"]\n",
    "    if k == \"Philadelphia\":\n",
    "        k = \"Philadelphia, Pennsylvania\"\n",
    "    elif k == \"Rio De Janeiro\":\n",
    "        k = \"Rio de Janeiro\"\n",
    "    elif k == \"Sao Paulo\":\n",
    "        k = \"São Paulo\"\n",
    "    elif k == \"Miami\":\n",
    "        k = \"Miami, Florida\"\n",
    "    elif city_2_country.get(k) == None:\n",
    "        continue\n",
    "    \n",
    "    #below is a moving average calculation\n",
    "    country = city_2_country[k]\n",
    "    if city_country_ct.get(country) == None or city_country_ct[country] == 0:\n",
    "        city_country_ct[country] = 1\n",
    "    else:\n",
    "        city_country_ct[country] = city_country_ct[country] + 1\n",
    "    \n",
    "    if city_country_ct[country] == 1:\n",
    "#         ['City', 'Movehub Rating', 'Purchase Power', 'Health Care', 'Pollution',\n",
    "#        'Quality of Life', 'Crime Rating']\n",
    "        country_healthcare_rating[country] = row['Health Care']\n",
    "        country_pollution_rating[country] = row['Pollution']\n",
    "        country_qualityOfLife_rating[country] = row['Quality of Life']\n",
    "        country_Movehub_rating[country] = row['Movehub Rating']\n",
    "        country_Purachase_power[country] = row['Purchase Power']\n",
    "        country_Crime_rating[country] = row['Crime Rating']\n",
    "    else:\n",
    "        prev_res_h = (city_country_ct[country] - 1) * (country_healthcare_rating[country])\n",
    "        prev_res_p = (city_country_ct[country] - 1) * (country_pollution_rating[country])\n",
    "        prev_res_q = (city_country_ct[country] - 1) * (country_qualityOfLife_rating[country])\n",
    "        prev_res_m = (city_country_ct[country] - 1) * (country_Movehub_rating[country])\n",
    "        prev_res_pp = (city_country_ct[country] - 1) * (country_Purachase_power[country])\n",
    "        prev_res_c = (city_country_ct[country] - 1) * (country_Crime_rating[country])\n",
    "        \n",
    "        curr_res_h = prev_res_h + row['Health Care']\n",
    "        curr_res_p = prev_res_p + row['Pollution']\n",
    "        curr_res_q = prev_res_q + row['Quality of Life']\n",
    "        curr_res_m = prev_res_m + row['Movehub Rating']\n",
    "        curr_res_pp = prev_res_pp + row['Purchase Power']\n",
    "        curr_res_c = prev_res_c + row['Crime Rating']\n",
    "        \n",
    "        country_healthcare_rating[country] = curr_res_h / city_country_ct[country]\n",
    "        country_pollution_rating[country] = curr_res_p / city_country_ct[country]\n",
    "        country_qualityOfLife_rating[country] = curr_res_q / city_country_ct[country]\n",
    "        country_Movehub_rating[country] = curr_res_m / city_country_ct[country]\n",
    "        country_Purachase_power[country] = curr_res_pp / city_country_ct[country]\n",
    "        country_Crime_rating[country] = curr_res_c / city_country_ct[country]\n"
   ]
  },
  {
   "cell_type": "code",
   "execution_count": 66,
   "metadata": {},
   "outputs": [
    {
     "name": "stdout",
     "output_type": "stream",
     "text": [
      "191\n",
      "191\n"
     ]
    }
   ],
   "source": [
    "for i in country_covid_cases.keys():\n",
    "    if i not in(country_healthcare_rating.keys()):\n",
    "        country_healthcare_rating[i]=0\n",
    "        \n",
    "        \n",
    "for i in (country_healthcare_rating.keys()):\n",
    "    if i not in(country_covid_cases.keys()):\n",
    "        country_covid_cases[i]=0\n",
    "\n",
    "    \n",
    "print(len(country_healthcare_rating.keys()))\n",
    "print(len(country_covid_cases.keys()))"
   ]
  },
  {
   "cell_type": "code",
   "execution_count": null,
   "metadata": {},
   "outputs": [],
   "source": []
  },
  {
   "cell_type": "code",
   "execution_count": 67,
   "metadata": {},
   "outputs": [
    {
     "name": "stdout",
     "output_type": "stream",
     "text": [
      "{'Afghanistan': 36263, 'Albania': 4880, 'Algeria': 27973, 'Andorra': 907, 'Angola': 950, 'Antigua and Barbuda': 86, 'Argentina': 167416, 'Armenia': 37390, 'Australia': 15303, 'Austria': 20558, 'Azerbaijan': 30446, 'Bahamas': 382, 'Bahrain': 39482, 'Bangladesh': 226225, 'Barbados': 110, 'Belarus': 67251, 'Belgium': 66428, 'Belize': 48, 'Benin': 1770, 'Bhutan': 99, 'Bolivia': 71181, 'Bosnia and Herzegovina': 10498, 'Botswana': 739, 'Brazil': 2442375, 'Brunei': 141, 'Bulgaria': 10621, 'Burkina Faso': 1100, 'Burma': 350, 'Burundi': 378, 'Cabo Verde': 2328, 'Cambodia': 226, 'Cameroon': 17110, 'Canada': 116458, 'Central African Republic': 4599, 'Chad': 922, 'Chile': 347923, 'China': 86783, 'Colombia': 257101, 'Comoros': 354, 'Congo (Brazzaville)': 3200, 'Congo (Kinshasa)': 8844, 'Costa Rica': 15841, \"Cote d'Ivoire\": 15655, 'Croatia': 4881, 'Cuba': 2532, 'Cyprus': 1060, 'Czechia': 15516, 'Denmark': 13761, 'Djibouti': 5059, 'Dominica': 18, 'Dominican Republic': 64156, 'Ecuador': 81161, 'Egypt': 92482, 'El Salvador': 15035, 'Equatorial Guinea': 3071, 'Eritrea': 265, 'Estonia': 2034, 'Eswatini': 2316, 'Ethiopia': 14547, 'Fiji': 27, 'Finland': 7398, 'France': 220352, 'Gabon': 7189, 'Gambia': 326, 'Georgia': 1137, 'Germany': 207112, 'Ghana': 33624, 'Greece': 4227, 'Greenland': 14, 'Grenada': 23, 'Guatemala': 45309, 'Guinea': 7055, 'Guinea-Bissau': 1954, 'Guyana': 389, 'Haiti': 7340, 'Holy See': 12, 'Honduras': 39741, 'Hungary': 4448, 'Iceland': 1854, 'India': 1480073, 'Indonesia': 100303, 'Iran': 293606, 'Iraq': 112585, 'Ireland': 25892, 'Israel': 63985, 'Italy': 246286, 'Jamaica': 853, 'Japan': 31142, 'Jordan': 1176, 'Kazakhstan': 84648, 'Kenya': 17975, 'Kosovo': 7413, 'Kuwait': 64379, 'Kyrgyzstan': 33296, 'Laos': 20, 'Latvia': 1219, 'Lebanon': 3882, 'Lesotho': 505, 'Liberia': 1167, 'Libya': 2827, 'Liechtenstein': 86, 'Lithuania': 2019, 'Luxembourg': 6321, 'Madagascar': 9690, 'Malawi': 3664, 'Malaysia': 8904, 'Maldives': 3369, 'Mali': 2513, 'Malta': 701, 'Mauritania': 6208, 'Mauritius': 344, 'Mexico': 395489, 'Moldova': 23154, 'Monaco': 116, 'Mongolia': 289, 'Montenegro': 2893, 'Morocco': 20887, 'Mozambique': 1701, 'Namibia': 1843, 'Nepal': 18752, 'Netherlands': 53413, 'New Zealand': 1557, 'Nicaragua': 3439, 'Niger': 1132, 'Nigeria': 41180, 'North Macedonia': 10213, 'Norway': 9132, 'Oman': 77058, 'Pakistan': 274289, 'Panama': 61442, 'Papua New Guinea': 62, 'Paraguay': 4548, 'Peru': 389717, 'Philippines': 82040, 'Poland': 43402, 'Portugal': 50299, 'Qatar': 109597, 'Romania': 45902, 'Russia': 816680, 'Rwanda': 1879, 'Saint Kitts and Nevis': 17, 'Saint Lucia': 24, 'Saint Vincent and the Grenadines': 52, 'San Marino': 699, 'Sao Tome and Principe': 865, 'Saudi Arabia': 268934, 'Senegal': 9764, 'Serbia': 24141, 'Seychelles': 114, 'Sierra Leone': 1783, 'Singapore': 50838, 'Slovakia': 2181, 'Slovenia': 2087, 'Somalia': 3196, 'South Africa': 452529, 'South Korea': 14203, 'South Sudan': 2305, 'Spain': 272421, 'Sri Lanka': 2805, 'Sudan': 11424, 'Suriname': 1483, 'Sweden': 79395, 'Switzerland': 34477, 'Syria': 674, 'Taiwan*': 462, 'Tajikistan': 7235, 'Tanzania': 509, 'Thailand': 3297, 'Timor-Leste': 24, 'Togo': 874, 'Trinidad and Tobago': 148, 'Tunisia': 1455, 'Turkey': 227019, 'US': 4290259, 'Uganda': 1128, 'Ukraine': 67096, 'United Arab Emirates': 59177, 'United Kingdom': 301708, 'Uruguay': 1202, 'Uzbekistan': 21209, 'Venezuela': 15988, 'Vietnam': 431, 'West Bank and Gaza': 10621, 'Western Sahara': 10, 'Yemen': 1691, 'Zambia': 4552, 'Zimbabwe': 2704, 'United States': 0, 'Czech Republic': 0, 'Hong Kong': 0, 'Taiwan': 0}\n",
      "13.5\n",
      "-6.5\n"
     ]
    }
   ],
   "source": [
    "#Finding IQR for the following country_covid_deathsper100recovered,covid_deathsper100cases, and covid_deaths\n",
    "\n",
    "deathsper100recovered =[]\n",
    "deathsper100cases=[]\n",
    "deaths=[]\n",
    "totalccases=[]\n",
    "\n",
    "print(country_covid_cases)\n",
    "for i in country_covid_deathsper100recovered.keys():\n",
    "    deathsper100recovered.append(country_covid_deathsper100recovered[i])\n",
    "for i in country_covid_deathsper100cases.keys():\n",
    "    deathsper100cases.append(country_covid_deathsper100cases[i])\n",
    "for i in country_covid_deaths.keys():\n",
    "    deaths.append(country_covid_deaths[i])\n",
    "for i in country_covid_cases.keys():\n",
    "    totalccases.append(country_covid_cases[i])\n",
    "\n",
    "\n",
    "q75, q25 = np.percentile(deathsper100recovered, [75 ,25])\n",
    "iqr = q75 - q25\n",
    "ye = (1.5*iqr)+q75\n",
    "print((1.5*iqr)+q75)\n",
    "\n",
    "print(q25-(1.5*iqr))\n",
    "\n",
    "d2 = copy.deepcopy( country_covid_deathsper100recovered)\n",
    "for i in country_covid_deathsper100recovered.keys():\n",
    "    if( country_covid_deathsper100recovered[i]>= ye):\n",
    "         d2.pop(i)\n",
    "country_covid_deathsper100recovered = d2\n"
   ]
  },
  {
   "cell_type": "code",
   "execution_count": 68,
   "metadata": {},
   "outputs": [
    {
     "name": "stdout",
     "output_type": "stream",
     "text": [
      "7.5\n",
      "-4.5\n"
     ]
    }
   ],
   "source": [
    "q75, q25 = np.percentile(deathsper100cases, [75 ,25])\n",
    "iqr = q75 - q25\n",
    "ye = (1.5*iqr)+q75\n",
    "print((1.5*iqr)+q75)\n",
    "print(q25-(1.5*iqr))\n",
    "\n",
    "d2 = copy.deepcopy( country_covid_deathsper100cases)\n",
    "for i in country_covid_deathsper100cases.keys():\n",
    "    if( country_covid_deathsper100cases[i]>= ye):\n",
    "         d2.pop(i)\n",
    "country_covid_deathsper100cases = d2\n"
   ]
  },
  {
   "cell_type": "code",
   "execution_count": 69,
   "metadata": {},
   "outputs": [
    {
     "name": "stdout",
     "output_type": "stream",
     "text": [
      "1807.25\n",
      "-1054.75\n"
     ]
    }
   ],
   "source": [
    "q75, q25 = np.percentile(deaths, [75 ,25])\n",
    "iqr = q75 - q25\n",
    "ye = (1.5*iqr)+q75\n",
    "print((1.5*iqr)+q75)\n",
    "print(q25-(1.5*iqr))\n",
    "d2 = copy.deepcopy( country_covid_deaths)\n",
    "for i in country_covid_deaths.keys():\n",
    "    if( country_covid_deaths[i]>= ye):\n",
    "         d2.pop(i)\n",
    "country_covid_deaths = d2\n"
   ]
  },
  {
   "cell_type": "code",
   "execution_count": 70,
   "metadata": {},
   "outputs": [
    {
     "name": "stdout",
     "output_type": "stream",
     "text": [
      "97624.75\n",
      "-57077.25\n",
      "97624.75\n"
     ]
    }
   ],
   "source": [
    "q75, q25 = np.percentile(totalccases, [75 ,25])\n",
    "iqr = q75 - q25\n",
    "ye = (1.5*iqr)+q75\n",
    "print((1.5*iqr)+q75)\n",
    "print(q25-(1.5*iqr))\n",
    "d2 = copy.deepcopy(country_covid_cases)\n",
    "for i in country_covid_cases.keys():\n",
    "    if( country_covid_cases[i]>= ye):\n",
    "         d2.pop(i)\n",
    "country_covid_cases = d2\n",
    "\n",
    "print(ye)"
   ]
  },
  {
   "cell_type": "code",
   "execution_count": 79,
   "metadata": {
    "scrolled": false
   },
   "outputs": [],
   "source": [
    "#country_covid_cases\n",
    "\n",
    "\n",
    "\n",
    "allFeatures = {}\n",
    "\n",
    "# Healthcare\n",
    "vals = {}\n",
    "cases = {}\n",
    "for cN in country_covid_cases.keys():\n",
    "    if cN in country_pollution_rating.keys():\n",
    "        vals[cN] = country_covid_cases[cN]\n",
    "        cases[cN] = country_pollution_rating[cN]\n",
    "X, y = np.array(list(vals.values())).reshape(-1, 1), np.array(list(cases.values())).reshape(-1, 1)\n",
    "allFeatures['Healthcare Rating'] = [X,y]\n",
    "\n",
    "# Pollution\n",
    "vals = {}\n",
    "cases = {}\n",
    "for cN in country_covid_cases.keys():\n",
    "    if cN in country_healthcare_rating.keys():\n",
    "        vals[cN] = country_covid_cases[cN]\n",
    "        cases[cN] = country_healthcare_rating[cN]\n",
    "X, y = np.array(list(vals.values())).reshape(-1, 1), np.array(list(cases.values())).reshape(-1, 1)\n",
    "allFeatures['Pollution Rating'] = [X,y]\n",
    "\n",
    "# Quality of Life\n",
    "vals = {}\n",
    "cases = {}\n",
    "for cN in country_covid_cases.keys():\n",
    "    if cN in country_qualityOfLife_rating.keys():\n",
    "        vals[cN] = country_covid_cases[cN]\n",
    "        cases[cN] = country_qualityOfLife_rating[cN]\n",
    "X, y = np.array(list(vals.values())).reshape(-1, 1), np.array(list(cases.values())).reshape(-1, 1)\n",
    "allFeatures['Quality of Life'] = [X,y]\n",
    "\n",
    "# Movehub Rating\n",
    "vals = {}\n",
    "cases = {}\n",
    "for cN in country_covid_cases.keys():\n",
    "    if cN in country_Movehub_rating.keys():\n",
    "        vals[cN] = country_covid_cases[cN]\n",
    "        cases[cN] = country_Movehub_rating[cN]\n",
    "X, y = np.array(list(vals.values())).reshape(-1, 1), np.array(list(cases.values())).reshape(-1, 1)\n",
    "allFeatures['Movehub Rating'] = [X,y]\n",
    "\n",
    "# Purachase Power\n",
    "vals = {}\n",
    "cases = {}\n",
    "for cN in country_covid_cases.keys():\n",
    "    if cN in country_Purachase_power.keys():\n",
    "        vals[cN] = country_covid_cases[cN]\n",
    "        cases[cN] = country_Purachase_power[cN]\n",
    "X, y = np.array(list(vals.values())).reshape(-1, 1), np.array(list(cases.values())).reshape(-1, 1)\n",
    "allFeatures['Purchase Power'] = [X,y]\n",
    "\n",
    "# Crime Rating\n",
    "vals = {}\n",
    "cases = {}\n",
    "for cN in country_covid_cases.keys():\n",
    "    if cN in country_Crime_rating.keys():\n",
    "        vals[cN] = country_covid_cases[cN]\n",
    "        cases[cN] = country_Crime_rating[cN]\n",
    "X, y = np.array(list(vals.values())).reshape(-1, 1), np.array(list(cases.values())).reshape(-1, 1)\n",
    "allFeatures['Crime Rating'] = [X,y]\n",
    "\n",
    "# Pollution Rating\n",
    "vals = {}\n",
    "cases = {}\n",
    "for cN in country_covid_cases.keys():\n",
    "    if cN in country_pollution_rating.keys():\n",
    "        vals[cN] = country_covid_cases[cN]\n",
    "        cases[cN] = country_pollution_rating[cN]\n",
    "X, y = np.array(list(vals.values())).reshape(-1, 1), np.array(list(cases.values())).reshape(-1, 1)\n",
    "allFeatures['Pollution Rating'] = [X,y]\n"
   ]
  },
  {
   "cell_type": "code",
   "execution_count": 80,
   "metadata": {},
   "outputs": [
    {
     "data": {
      "image/png": "[encoded data removed]",
      "text/plain": [
       "<Figure size 1440x720 with 1 Axes>"
      ]
     },
     "metadata": {
      "needs_background": "light"
     },
     "output_type": "display_data"
    }
   ],
   "source": [
    "reg_mod = LinearRegression().fit(allFeatures[\"Pollution Rating\"][1], allFeatures[\"Pollution Rating\"][0]);\n",
    "# print(allFeatures[\"Movehub Rating\"][0])\n",
    "# for x in allFeatures[\"Movehub Rating\"][0]:\n",
    "#     print(x[0])\n",
    "reg_line = [reg_mod.predict([[x[0]]])[0][0] for x in allFeatures[\"Pollution Rating\"][1]]\n",
    "\n",
    "# print(reg_line)\n",
    "fig, ax = plt.subplots(figsize=(20,10))\n",
    "plt.plot(allFeatures[\"Pollution Rating\"][1], reg_line, label = reg_mod.coef_);\n",
    "for i in range(len(reg_line)):\n",
    "    plt.scatter(allFeatures[\"Pollution Rating\"][1][i], allFeatures[\"Pollution Rating\"][0][i]);\n",
    "ax.set_xlabel(\"Pollution Rating\")\n",
    "ax.set_ylabel(\"Covid Cases\")\n",
    "ax.set_title(\"Linear Relation between Pollution Rating and Coronavirus Cases\")\n",
    "plt.legend()\n",
    "\n",
    "plt.show()"
   ]
  },
  {
   "cell_type": "code",
   "execution_count": 74,
   "metadata": {},
   "outputs": [],
   "source": [
    "#country_covid_deaths\n",
    "\n",
    "\n",
    "\n",
    "allFeatures2 = {}\n",
    "\n",
    "# Healthcare\n",
    "vals = {}\n",
    "cases = {}\n",
    "for cN in country_covid_deaths.keys():\n",
    "    if cN in country_pollution_rating.keys():\n",
    "        vals[cN] = country_covid_deaths[cN]\n",
    "        cases[cN] = country_pollution_rating[cN]\n",
    "X, y = np.array(list(vals.values())).reshape(-1, 1), np.array(list(cases.values())).reshape(-1, 1)\n",
    "allFeatures2['Healthcare Rating'] = [X,y]\n",
    "\n",
    "# Pollution\n",
    "vals = {}\n",
    "cases = {}\n",
    "for cN in country_covid_deaths.keys():\n",
    "    if cN in country_healthcare_rating.keys():\n",
    "        vals[cN] = country_covid_deaths[cN]\n",
    "        cases[cN] = country_healthcare_rating[cN]\n",
    "X, y = np.array(list(vals.values())).reshape(-1, 1), np.array(list(cases.values())).reshape(-1, 1)\n",
    "allFeatures2['Pollution Rating'] = [X,y]\n",
    "\n",
    "# Quality of Life\n",
    "vals = {}\n",
    "cases = {}\n",
    "for cN in country_covid_deaths.keys():\n",
    "    if cN in country_qualityOfLife_rating.keys():\n",
    "        vals[cN] = country_covid_deaths[cN]\n",
    "        cases[cN] = country_qualityOfLife_rating[cN]\n",
    "X, y = np.array(list(vals.values())).reshape(-1, 1), np.array(list(cases.values())).reshape(-1, 1)\n",
    "allFeatures2['Quality of Life'] = [X,y]\n",
    "\n",
    "# Movehub Rating\n",
    "vals = {}\n",
    "cases = {}\n",
    "for cN in country_covid_deaths.keys():\n",
    "    if cN in country_Movehub_rating.keys():\n",
    "        vals[cN] = country_covid_deaths[cN]\n",
    "        cases[cN] = country_Movehub_rating[cN]\n",
    "X, y = np.array(list(vals.values())).reshape(-1, 1), np.array(list(cases.values())).reshape(-1, 1)\n",
    "allFeatures2['Movehub Rating'] = [X,y]\n",
    "\n",
    "# Purachase Power\n",
    "vals = {}\n",
    "cases = {}\n",
    "for cN in country_covid_deaths.keys():\n",
    "    if cN in country_Purachase_power.keys():\n",
    "        vals[cN] = country_covid_deaths[cN]\n",
    "        cases[cN] = country_Purachase_power[cN]\n",
    "X, y = np.array(list(vals.values())).reshape(-1, 1), np.array(list(cases.values())).reshape(-1, 1)\n",
    "allFeatures2['Purchase Power'] = [X,y]\n",
    "\n",
    "# Crime Rating\n",
    "vals = {}\n",
    "cases = {}\n",
    "for cN in country_covid_deaths.keys():\n",
    "    if cN in country_Crime_rating.keys():\n",
    "        vals[cN] = country_covid_deaths[cN]\n",
    "        cases[cN] = country_Crime_rating[cN]\n",
    "X, y = np.array(list(vals.values())).reshape(-1, 1), np.array(list(cases.values())).reshape(-1, 1)\n",
    "allFeatures2['Crime Rating'] = [X,y]\n"
   ]
  },
  {
   "cell_type": "code",
   "execution_count": 86,
   "metadata": {},
   "outputs": [
    {
     "data": {
      "image/png": "[encoded data removed]",
      "text/plain": [
       "<Figure size 1440x720 with 1 Axes>"
      ]
     },
     "metadata": {
      "needs_background": "light"
     },
     "output_type": "display_data"
    }
   ],
   "source": [
    "reg_mod = LinearRegression().fit(allFeatures2[\"Healthcare Rating\"][0], allFeatures2[\"Healthcare Rating\"][1]);\n",
    "# print(allFeatures2[\"Movehub Rating\"][0])\n",
    "# for x in allFeatures2[\"Movehub Rating\"][0]:\n",
    "#     print(x[0])\n",
    "reg_line = [reg_mod.predict([[x[0]]])[0][0] for x in allFeatures2[\"Healthcare Rating\"][0]]\n",
    "\n",
    "# print(reg_line)\n",
    "fig, ax = plt.subplots(figsize=(20,10))\n",
    "plt.plot(allFeatures2[\"Healthcare Rating\"][0], reg_line, label = reg_mod.coef_);\n",
    "for i in range(len(reg_line)):\n",
    "    plt.scatter(allFeatures2[\"Healthcare Rating\"][0][i], allFeatures2[\"Healthcare Rating\"][1][i]);\n",
    "ax.set_ylabel(\"Healthcare Rating\")\n",
    "ax.set_xlabel(\"Covid Deaths\")\n",
    "ax.set_title(\"Linear Relation between Healthcare Rating and Covid Deaths\")\n",
    "plt.legend()\n",
    "\n",
    "plt.show()"
   ]
  },
  {
   "cell_type": "code",
   "execution_count": 87,
   "metadata": {},
   "outputs": [
    {
     "data": {
      "image/png": "[encoded data removed]",
      "text/plain": [
       "<Figure size 1440x720 with 1 Axes>"
      ]
     },
     "metadata": {
      "needs_background": "light"
     },
     "output_type": "display_data"
    }
   ],
   "source": [
    "reg_mod = LinearRegression().fit(allFeatures[\"Healthcare Rating\"][0], allFeatures[\"Healthcare Rating\"][1]);\n",
    "# print(allFeatures2[\"Movehub Rating\"][0])\n",
    "# for x in allFeatures2[\"Movehub Rating\"][0]:\n",
    "#     print(x[0])\n",
    "reg_line = [reg_mod.predict([[x[0]]])[0][0] for x in allFeatures[\"Healthcare Rating\"][0]]\n",
    "\n",
    "# print(reg_line)\n",
    "fig, ax = plt.subplots(figsize=(20,10))\n",
    "plt.plot(allFeatures[\"Healthcare Rating\"][0], reg_line, label = reg_mod.coef_);\n",
    "for i in range(len(reg_line)):\n",
    "    plt.scatter(allFeatures[\"Healthcare Rating\"][0][i], allFeatures[\"Healthcare Rating\"][1][i]);\n",
    "ax.set_ylabel(\"Healthcare Rating\")\n",
    "ax.set_xlabel(\"Covid Deaths\")\n",
    "ax.set_title(\"Linear Relation between Healthcare Rating and Covid Deaths\")\n",
    "plt.legend()\n",
    "\n",
    "plt.show()"
   ]
  },
  {
   "cell_type": "code",
   "execution_count": null,
   "metadata": {},
   "outputs": [],
   "source": []
  }
 ],
 "metadata": {
  "kernelspec": {
   "display_name": "Python 3",
   "language": "python",
   "name": "python3"
  },
  "language_info": {
   "codemirror_mode": {
    "name": "ipython",
    "version": 3
   },
   "file_extension": ".py",
   "mimetype": "text/x-python",
   "name": "python",
   "nbconvert_exporter": "python",
   "pygments_lexer": "ipython3",
   "version": "3.8.3"
  }
 },
 "nbformat": 4,
 "nbformat_minor": 4
}
